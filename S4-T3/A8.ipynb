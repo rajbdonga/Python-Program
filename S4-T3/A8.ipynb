{
 "cells": [
  {
   "cell_type": "markdown",
   "metadata": {},
   "source": [
    "*  Tensour flow deep learning steps\n",
    "1. import necesaries library\n",
    "2. load the data set\n",
    "3. pre-process the data(normalize , reshape , encode)\n",
    "4. build the model\n",
    "5. compile the model using optimizer loss and metrix\n",
    "6. train the model using fit\n",
    "9. evoluate and predict using the model\n",
    "10. visulise the result"
   ]
  },
  {
   "cell_type": "code",
   "execution_count": null,
   "metadata": {},
   "outputs": [],
   "source": []
  }
 ],
 "metadata": {
  "kernelspec": {
   "display_name": "Python 3",
   "language": "python",
   "name": "python3"
  },
  "language_info": {
   "codemirror_mode": {
    "name": "ipython",
    "version": 3
   },
   "file_extension": ".py",
   "mimetype": "text/x-python",
   "name": "python",
   "nbconvert_exporter": "python",
   "pygments_lexer": "ipython3",
   "version": "3.8.5"
  }
 },
 "nbformat": 4,
 "nbformat_minor": 4
}
