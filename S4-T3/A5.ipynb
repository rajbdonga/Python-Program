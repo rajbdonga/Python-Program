{
 "cells": [
  {
   "cell_type": "markdown",
   "metadata": {},
   "source": [
    "###### Create http server"
   ]
  },
  {
   "cell_type": "code",
   "execution_count": 3,
   "metadata": {},
   "outputs": [
    {
     "name": "stdout",
     "output_type": "stream",
     "text": [
      "Overwriting myserver.py\n"
     ]
    }
   ],
   "source": [
    "%%writefile myserver.py\n",
    "from socket import *\n",
    "\n",
    "def createserver():\n",
    "    serversocket = socket()\n",
    "    serversocket.bind(('localhost',9000))\n",
    "    serversocket.listen()\n",
    "    print('access http://localhost:9000')\n",
    "    \n",
    "    while True:\n",
    "        clientsocket,address = serversocket.accept()\n",
    "        rd = clientsocket.recv(5000).decode()\n",
    "        print(rd)\n",
    "        data = 'HTTP/1.1 200 OK\\r\\n'\n",
    "        data += 'Content-Type: text/html; charset=utf-8\\r\\n'\n",
    "        data += '\\r\\n'\n",
    "        data += '<html> <body> Hello World </body> </html>\\r\\n\\r\\n'\n",
    "        clientsocket.send(data.encode())\n",
    "        clientsocket.close()\n",
    "    serversocket.close()\n",
    "createserver()"
   ]
  },
  {
   "cell_type": "code",
   "execution_count": 6,
   "metadata": {},
   "outputs": [
    {
     "name": "stdout",
     "output_type": "stream",
     "text": [
      "Overwriting myclient.py\n"
     ]
    }
   ],
   "source": [
    "%%writefile myclient.py\n",
    "from socket import *\n",
    "\n",
    "def createclient():\n",
    "    clientsocket = socket()\n",
    "    clientsocket.connect(('localhost',9000))\n",
    "    request = 'GET / HTTP/1.1\\r\\nHost : localhost\\r\\n\\r\\n'\n",
    "    \n",
    "    clientsocket.send(request.encode())\n",
    "    response = clientsocket.recv(1024).decode()\n",
    "    print('Received response - ')\n",
    "    print(response)\n",
    "    clientsocket.close()\n",
    "    \n",
    "createclient()"
   ]
  },
  {
   "cell_type": "code",
   "execution_count": 7,
   "metadata": {},
   "outputs": [
    {
     "name": "stdout",
     "output_type": "stream",
     "text": [
      "Writing serverprog.py\n"
     ]
    }
   ],
   "source": [
    "%%writefile serverprog.py\n",
    "import socket\n",
    "#SERVER NAME AND ADDRESS\n",
    "host = 'localhost'\n",
    "port = 5000\n",
    "#CREATE SERVER SIDE SOCKET USING TCP\n",
    "s = socket.socket(socket.AF_INET, socket.SOCK_STREAM)\n",
    "#BIND SOCKET WITH SERVER AND PORT\n",
    "s.bind((host,port))\n",
    "#ALLOW MAX ONE CONNECTION TO THE SOCKET\n",
    "s.listen(1)\n",
    "# WAIT TILL CLIENT ACCEPTS CONNECTION\n",
    "c,addr = s.accept()\n",
    "# DISPLAY CLIENT ADDRESS\n",
    "print(\"connection established from - \", str(addr))\n",
    "# SEND ENCODED MESSAGE TO CLIENT\n",
    "c.send(b\"Hello client, How are you?\")\n",
    "msg = 'bye'\n",
    "c.send(msg.encode())\n",
    "# DISCONNECT SERVER\n",
    "c.close()"
   ]
  },
  {
   "cell_type": "code",
   "execution_count": 8,
   "metadata": {},
   "outputs": [
    {
     "name": "stdout",
     "output_type": "stream",
     "text": [
      "Writing clientprog.py\n"
     ]
    }
   ],
   "source": [
    "%%writefile clientprog.py\n",
    "import socket\n",
    "# TAKE SERVER NAME AND ADDRESS\n",
    "host = 'localhost'\n",
    "port = 5000\n",
    "#CREATE CLIENT SIDE SOCKET USING TCP\n",
    "s = socket.socket(socket.AF_INET, socket.SOCK_STREAM)\n",
    "#CONNECT SOCKET WITH SERVER AND PORT\n",
    "s.connect((host,port))\n",
    "# RECEIVE MAX 1024 BYTES MESSAGE FROM SERVER AT A TIME\n",
    "msg = s.recv(1024)\n",
    "# REPEAT AS LONG AS MESSAGE IS NOT EMPTY\n",
    "while msg:\n",
    "    print(\"Received - \", msg.decode())\n",
    "    msg = s.recv(1024)\n",
    "# DISCONNECT SERVER\n",
    "s.close()"
   ]
  },
  {
   "cell_type": "code",
   "execution_count": null,
   "metadata": {},
   "outputs": [],
   "source": []
  }
 ],
 "metadata": {
  "kernelspec": {
   "display_name": "Python 3",
   "language": "python",
   "name": "python3"
  },
  "language_info": {
   "codemirror_mode": {
    "name": "ipython",
    "version": 3
   },
   "file_extension": ".py",
   "mimetype": "text/x-python",
   "name": "python",
   "nbconvert_exporter": "python",
   "pygments_lexer": "ipython3",
   "version": "3.8.5"
  }
 },
 "nbformat": 4,
 "nbformat_minor": 4
}
