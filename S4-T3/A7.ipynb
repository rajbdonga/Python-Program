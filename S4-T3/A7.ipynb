{
 "cells": [
  {
   "cell_type": "code",
   "execution_count": 2,
   "metadata": {},
   "outputs": [
    {
     "name": "stdout",
     "output_type": "stream",
     "text": [
      "<Response [200]>\n",
      "[{'country': 'IN',\n",
      "  'lat': 23.0216238,\n",
      "  'local_names': {'ar': 'أحمد آباد',\n",
      "                  'ascii': 'Ahmedabad',\n",
      "                  'cs': 'Ahmadábád',\n",
      "                  'de': 'Ahmedabad',\n",
      "                  'en': 'Ahmedabad',\n",
      "                  'eo': 'Ahmadabado',\n",
      "                  'feature_name': 'Ahmedabad',\n",
      "                  'gu': 'અમદાવાદ',\n",
      "                  'he': 'אחמדאבאד',\n",
      "                  'hi': 'अहमदाबाद',\n",
      "                  'ja': 'アフマダーバード',\n",
      "                  'kn': 'ಅಹ್ಮದಾಬಾದ್',\n",
      "                  'ml': 'അഹമ്മദാബാദ്',\n",
      "                  'mr': 'अहमदाबाद',\n",
      "                  'oc': 'Ahmadabad',\n",
      "                  'or': 'ଅହମଦାବାଦ',\n",
      "                  'pa': 'ਅਹਿਮਦਾਬਾਦ',\n",
      "                  'pl': 'Ahmadabad',\n",
      "                  'ru': 'Ахмадабад',\n",
      "                  'ta': 'அகமதாபாத்',\n",
      "                  'te': 'అహ్మదాబాద్',\n",
      "                  'uk': 'Ахмедабад',\n",
      "                  'ur': 'احمد آباد',\n",
      "                  'zh': '艾哈迈达巴德'},\n",
      "  'lon': 72.5797068,\n",
      "  'name': 'Ahmedabad',\n",
      "  'state': 'Gujarat'}]\n",
      "None\n"
     ]
    }
   ],
   "source": [
    "import requests , json\n",
    "import pprint\n",
    "apikey = \"8edd6bea302a33d53a6e920a247e2c72\"\n",
    "city = \"Ahmedabad\"\n",
    "url = f\"http://api.openweathermap.org/geo/1.0/direct?q={city}&appid={apikey}\"\n",
    "response = requests.get(url)\n",
    "print(response)\n",
    "coordinates = response.json()\n",
    "print(pprint.pprint(coordinates))\n",
    "# latitude = coordinates[0]['lat']\n",
    "# longitude = coordinates[0]['lon']"
   ]
  },
  {
   "cell_type": "code",
   "execution_count": null,
   "metadata": {},
   "outputs": [],
   "source": []
  }
 ],
 "metadata": {
  "kernelspec": {
   "display_name": "Python 3",
   "language": "python",
   "name": "python3"
  },
  "language_info": {
   "codemirror_mode": {
    "name": "ipython",
    "version": 3
   },
   "file_extension": ".py",
   "mimetype": "text/x-python",
   "name": "python",
   "nbconvert_exporter": "python",
   "pygments_lexer": "ipython3",
   "version": "3.8.5"
  }
 },
 "nbformat": 4,
 "nbformat_minor": 4
}
