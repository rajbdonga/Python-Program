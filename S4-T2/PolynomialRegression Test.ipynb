{
 "cells": [
  {
   "cell_type": "markdown",
   "metadata": {},
   "source": [
    "### 📄 **Task: Polynomial Regression Analysis on Fish Dataset (9 Marks)**\n",
    "\n",
    "<hr style=\"height:5px; background-color:maroon; border:none;\">\n",
    "\n",
    "You are given a dataset `Fish.csv` containing measurements of various fish species. Your task is to predict the **weight** of the fish based on its measurements.\n",
    "\n",
    "**Instructions:**\n",
    "\n",
    "1. **(2 Marks)** Load the dataset `Fish.csv` and select the following features as independent variables:\n",
    "   - `Length1`, `Length2`, `Length3`, `Height`, and `Width`\n",
    "   - Set `Weight` as the dependent variable (target).\n",
    "\n",
    "2. **(2 Marks)** Split the data into training and testing sets with an 80-20 ratio. Use `random_state=25` to ensure reproducibility.\n",
    "\n",
    "3. **(2 Marks)** Write a function `polynomial_regression(degree)` that:\n",
    "   - Transforms the input features using polynomial features of the given degree.\n",
    "   - Trains a **Linear Regression** model.\n",
    "   - Returns the **R² score** and **Mean Squared Error (MSE)** on the test set.\n",
    "\n",
    "4. **(1 Mark)** For polynomial degrees **1 to 5**, fit the model and display:\n",
    "   - R² score\n",
    "   - Mean Squared Error\n",
    "   for each degree.\n",
    "\n",
    "5. **(2 Marks)** Plot two graphs:\n",
    "   - **Graph 1**: Polynomial degree vs R² score\n",
    "   - **Graph 2**: Polynomial degree vs Mean Squared Error (MSE)\n",
    "   (Label axes clearly and give appropriate titles.)"
   ]
  },
  {
   "cell_type": "code",
   "execution_count": null,
   "metadata": {},
   "outputs": [],
   "source": [
    "\n",
    "\n",
    "\n",
    "\n",
    "\n",
    "\n",
    "\n"
   ]
  },
  {
   "cell_type": "code",
   "execution_count": null,
   "metadata": {},
   "outputs": [],
   "source": []
  },
  {
   "cell_type": "code",
   "execution_count": null,
   "metadata": {},
   "outputs": [],
   "source": []
  },
  {
   "cell_type": "code",
   "execution_count": null,
   "metadata": {},
   "outputs": [],
   "source": []
  },
  {
   "cell_type": "code",
   "execution_count": null,
   "metadata": {},
   "outputs": [],
   "source": []
  },
  {
   "cell_type": "code",
   "execution_count": null,
   "metadata": {},
   "outputs": [],
   "source": []
  },
  {
   "cell_type": "code",
   "execution_count": null,
   "metadata": {},
   "outputs": [],
   "source": []
  },
  {
   "cell_type": "code",
   "execution_count": null,
   "metadata": {},
   "outputs": [],
   "source": []
  },
  {
   "cell_type": "code",
   "execution_count": null,
   "metadata": {},
   "outputs": [],
   "source": []
  },
  {
   "cell_type": "markdown",
   "metadata": {},
   "source": [
    "__ __\n",
    "<!-- Solution:\n",
    "\n",
    "import pandas as pd\n",
    "from sklearn.model_selection import train_test_split\n",
    "from sklearn.preprocessing import PolynomialFeatures\n",
    "from sklearn.linear_model import LinearRegression\n",
    "from sklearn.metrics import r2_score, mean_squared_error\n",
    "import matplotlib.pyplot as plt\n",
    "\n",
    "# Load the dataset\n",
    "fish_data = pd.read_csv('Fish.csv')\n",
    "\n",
    "# Feature Selection: Using multiple features for prediction\n",
    "features = ['Length1', 'Length2', 'Length3', 'Height', 'Width']\n",
    "X = fish_data[features]\n",
    "y = fish_data['Weight']\n",
    "\n",
    "# Split the data with random state = 25\n",
    "X_train, X_test, y_train, y_test = train_test_split(X, y, test_size=0.2, random_state=25)\n",
    "\n",
    "# Function to fit and evaluate polynomial regression model for different degrees\n",
    "def polynomial_regression(degree):\n",
    "    poly = PolynomialFeatures(degree=degree)\n",
    "    X_poly_train = poly.fit_transform(X_train)\n",
    "    X_poly_test = poly.transform(X_test)\n",
    "    model = LinearRegression()\n",
    "    model.fit(X_poly_train, y_train)\n",
    "    y_pred = model.predict(X_poly_test)\n",
    "    r2 = r2_score(y_test, y_pred)\n",
    "    mse = mean_squared_error(y_test, y_pred)\n",
    "    return r2, mse\n",
    "\n",
    "# Evaluate polynomial regression model for degrees from 1 to 5\n",
    "degrees = range(1, 6)\n",
    "r2_scores = []\n",
    "mse_values = []\n",
    "\n",
    "for degree in degrees:\n",
    "    r2, mse = polynomial_regression(degree)\n",
    "    r2_scores.append(r2)\n",
    "    mse_values.append(mse)\n",
    "    print(f'Degree: {degree}, R2 Score: {r2:.4f}, Mean Squared Error: {mse:.4f}')\n",
    "\n",
    "# Plot the results\n",
    "plt.figure(figsize=(12, 6))\n",
    "\n",
    "plt.subplot(1, 2, 1)\n",
    "plt.plot(degrees, r2_scores, marker='o')\n",
    "plt.title('R2 Score vs. Polynomial Degree')\n",
    "plt.xlabel('Polynomial Degree')\n",
    "plt.ylabel('R2 Score')\n",
    "\n",
    "plt.subplot(1, 2, 2)\n",
    "plt.plot(degrees, mse_values, marker='o', color='r')\n",
    "plt.title('Mean Squared Error vs. Polynomial Degree')\n",
    "plt.xlabel('Polynomial Degree')\n",
    "plt.ylabel('Mean Squared Error')\n",
    "\n",
    "plt.tight_layout()\n",
    "plt.show()\n",
    "-->"
   ]
  }
 ],
 "metadata": {
  "kernelspec": {
   "display_name": "Python 3",
   "language": "python",
   "name": "python3"
  },
  "language_info": {
   "codemirror_mode": {
    "name": "ipython",
    "version": 3
   },
   "file_extension": ".py",
   "mimetype": "text/x-python",
   "name": "python",
   "nbconvert_exporter": "python",
   "pygments_lexer": "ipython3",
   "version": "3.8.5"
  }
 },
 "nbformat": 4,
 "nbformat_minor": 5
}
